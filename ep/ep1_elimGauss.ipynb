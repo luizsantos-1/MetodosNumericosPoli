{
  "cells": [
    {
      "cell_type": "markdown",
      "metadata": {
        "id": "BYzjFcVXSsUO"
      },
      "source": [
        "# Exercício Computacional 1 - Aritmética de Ponto Flutuante e Eliminação de Gauss\n",
        "\n",
        "\n",
        "\n",
        "---\n",
        "\n",
        "\n",
        "\n",
        "\n",
        "**Data de entrega:** Até 07 de Maio de 2023\n",
        "\n",
        "**Como entregar:** Enviar o jupyter notebook (arquivo .ipynb) pelo pelo próprio Classroom.\n"
      ]
    },
    {
      "cell_type": "markdown",
      "source": [
        "**Leia com atenção:**\n",
        "\n",
        "\n",
        "*   Você deve fazer obrigatoriamente todas as atividades marcadas com a exclamação❗.\n",
        "*   Atividades marcadas com 🧩 são opcionais, mas interessantes, podendo ser desafiadoras.\n",
        "*   Faça uma cópia do notebook para o seu Google Drive e use o Google Colab para executar o notebook e fazer a tarefa.\n",
        "*   A atividade vai ser baseada no seu número USP para que as soluções dos alunos fiquem diferentes.\n",
        "*   Há questões dissertativas!\n",
        "*   Siga o passo a passo indicado no tutorial, respondendo às atividades propostas no seu jupyter notebook.\n",
        "*   O notebook que entregar deve estar 100% funcional, isto é, todos os códigos rodando no Colab sem erros.\n",
        "*   Você deverá entregar apenas uma cópia do jupyter notebook (.ipynb) no Classroom, na funcionalidade de \"entregar\" do Classroom.\n",
        "*   Foi estimado um tempo total aproximado de 2-3 horas para realização completa da atividade.\n",
        "*   Esta tarefa é individual e haverá controle de similaridade. Tentativas de cópias, fraude, compra-venda de EPs não serão toleradas, levando a nota zero na tarefa e posterior análise para medidas cabíveis.\n",
        "*   ❗Exercício 0:❗ Para mostrar que você leu até aqui, escreva seu nome completo (assinatura) na linha a seguir:\n",
        "\n",
        "\n",
        "\n"
      ],
      "metadata": {
        "id": "5tdHx2quTGi7"
      }
    },
    {
      "cell_type": "markdown",
      "source": [
        "Luiz Eduardo Tojal Ramos Santos"
      ],
      "metadata": {
        "id": "f8RR8BxnxJhk"
      }
    },
    {
      "cell_type": "markdown",
      "source": [
        "\n",
        "\n",
        "---\n",
        "\n",
        "\n",
        "\n"
      ],
      "metadata": {
        "id": "ueXuiB-jqwco"
      }
    },
    {
      "cell_type": "markdown",
      "source": [
        "Primeiro vamos carregar algumas bibliotecas: Numpy, Scipy Linear Algebra (scipy.linalg), System (sys) e Time (time)"
      ],
      "metadata": {
        "id": "Fn_7zs09Tcaj"
      }
    },
    {
      "cell_type": "code",
      "source": [
        "import numpy as np\n",
        "import scipy.linalg as la\n",
        "import sys\n",
        "import time"
      ],
      "metadata": {
        "id": "fN9VY87CTuN2"
      },
      "execution_count": null,
      "outputs": []
    },
    {
      "cell_type": "markdown",
      "source": [
        "Agora vamos definir alguns números especiais (\"magic\") para cada aluno, com base no seu número USP"
      ],
      "metadata": {
        "id": "3SI8GHmPXwgy"
      }
    },
    {
      "cell_type": "code",
      "source": [
        "# Coloque aqui o seu número USP\n",
        "nusp = 11764386"
      ],
      "metadata": {
        "id": "DOGdOYSRX36L"
      },
      "execution_count": null,
      "outputs": []
    },
    {
      "cell_type": "markdown",
      "source": [
        "Estes números serão importantes para a atividade:"
      ],
      "metadata": {
        "id": "TdVVnZnyX_zt"
      }
    },
    {
      "cell_type": "code",
      "source": [
        "magic_ilong = int(str(nusp).replace(\"0\",\"\"))\n",
        "magic_ishort = int(str(magic_ilong)[:2])\n",
        "print(\"magic_ilong  =\", magic_ilong)\n",
        "print(\"magic_ishort =\", magic_ishort)"
      ],
      "metadata": {
        "id": "gTRo44pnYE9v",
        "colab": {
          "base_uri": "https://localhost:8080/"
        },
        "outputId": "9afbf3f9-d284-43fd-b526-94c9bb77c3f6"
      },
      "execution_count": null,
      "outputs": [
        {
          "output_type": "stream",
          "name": "stdout",
          "text": [
            "magic_ilong  = 11764386\n",
            "magic_ishort = 11\n"
          ]
        }
      ]
    },
    {
      "cell_type": "markdown",
      "source": [
        "\n",
        "\n",
        "---\n",
        "\n",
        "\n"
      ],
      "metadata": {
        "id": "H5Z5mDnarTWx"
      }
    },
    {
      "cell_type": "markdown",
      "source": [
        "## Aritmética de Ponto Flutuante"
      ],
      "metadata": {
        "id": "GkQjfujNUC1U"
      }
    },
    {
      "cell_type": "markdown",
      "source": [
        "Começamos esse tutorial discutindo um pouco de aritmética de ponto flutuante, que vamos definir mais adiante."
      ],
      "metadata": {
        "id": "4SKC1KBCT1iE"
      }
    },
    {
      "cell_type": "markdown",
      "source": [
        "\n",
        "\n",
        "Algumas referências:\n",
        "\n",
        "[1]https://en.wikipedia.org/wiki/IEEE_754\n",
        "\n",
        "[2] https://betterprogramming.pub/floating-point-numbers-are-weird-in-python-heres-how-to-fix-them-51336e4ad51a\n",
        "\n",
        "[3] https://ironpython-test.readthedocs.io/en/latest/tutorial/floatingpoint.html\n"
      ],
      "metadata": {
        "id": "8g8IUWhCTBG5"
      }
    },
    {
      "cell_type": "markdown",
      "metadata": {
        "id": "dZe_bYjMSsUR"
      },
      "source": [
        "A matemática está furada no computador?"
      ]
    },
    {
      "cell_type": "code",
      "execution_count": null,
      "metadata": {
        "id": "IXOIIzbLSsUS"
      },
      "outputs": [],
      "source": [
        "a = 10\n",
        "b = 0.1\n",
        "c = 0.2"
      ]
    },
    {
      "cell_type": "code",
      "execution_count": null,
      "metadata": {
        "id": "wdCH5-EYSsUS"
      },
      "outputs": [],
      "source": [
        "r1 = a*(b + c)\n",
        "r2 = a*b + a*c"
      ]
    },
    {
      "cell_type": "markdown",
      "source": [
        "r1 e r2 deveriam ser iguais...Mas..."
      ],
      "metadata": {
        "id": "ZhMuzT8Ur4SW"
      }
    },
    {
      "cell_type": "code",
      "execution_count": null,
      "metadata": {
        "id": "rW0CwGYCSsUS",
        "colab": {
          "base_uri": "https://localhost:8080/"
        },
        "outputId": "c4637a67-f670-4e46-8ca8-a8d7dfac826e"
      },
      "outputs": [
        {
          "output_type": "stream",
          "name": "stdout",
          "text": [
            "False\n"
          ]
        }
      ],
      "source": [
        "print(r1 == r2)"
      ]
    },
    {
      "cell_type": "code",
      "execution_count": null,
      "metadata": {
        "id": "TgP-jiMdSsUT",
        "colab": {
          "base_uri": "https://localhost:8080/"
        },
        "outputId": "204fdb14-00a3-4382-944f-e752f3431bda"
      },
      "outputs": [
        {
          "output_type": "stream",
          "name": "stdout",
          "text": [
            "3.0000000000000004 3.0\n"
          ]
        }
      ],
      "source": [
        "print(r1, r2)"
      ]
    },
    {
      "cell_type": "markdown",
      "metadata": {
        "id": "_QWW6JcWSsUT"
      },
      "source": [
        "A distributiva e associatividade não valem no computador ?!?!"
      ]
    },
    {
      "cell_type": "code",
      "execution_count": null,
      "metadata": {
        "id": "QvywvygxSsUU",
        "colab": {
          "base_uri": "https://localhost:8080/"
        },
        "outputId": "2fae1373-41ad-46fa-8032-260104bd5e23"
      },
      "outputs": [
        {
          "output_type": "execute_result",
          "data": {
            "text/plain": [
              "False"
            ]
          },
          "metadata": {},
          "execution_count": 8
        }
      ],
      "source": [
        ".2 + .2 + .2 == 0.6"
      ]
    },
    {
      "cell_type": "code",
      "execution_count": null,
      "metadata": {
        "id": "IL3YeTgdSsUU",
        "colab": {
          "base_uri": "https://localhost:8080/"
        },
        "outputId": "5c5908f7-f65b-4fa8-c146-498c15bdd590"
      },
      "outputs": [
        {
          "output_type": "stream",
          "name": "stdout",
          "text": [
            "0.9999999999999999\n"
          ]
        }
      ],
      "source": [
        "sum = 0.0\n",
        "n = 10\n",
        "for i in range(n):\n",
        "    sum += 1/n\n",
        "print(sum)"
      ]
    },
    {
      "cell_type": "markdown",
      "source": [
        "Vamos tentar entender os motivos partindo bem do princípio: como o computador representa os números!"
      ],
      "metadata": {
        "id": "JS-SCnpTsEqu"
      }
    },
    {
      "cell_type": "markdown",
      "metadata": {
        "id": "nulZwIjOSsUU"
      },
      "source": [
        "### Números inteiros no computador"
      ]
    },
    {
      "cell_type": "markdown",
      "metadata": {
        "id": "9ZZaY4B_SsUV"
      },
      "source": [
        "Suponha que tenho apenas 3 bits para representar inteiros (ignore o sinal). Ou seja, temos os números binários\n",
        "000, 001, 011, 100, 110, ..., 111\n",
        "que representam respectivamente\n",
        "0, 1, 2, 3, 4, 5, ..., 7\n",
        "sendo 7 o maior número que conseguimos representar."
      ]
    },
    {
      "cell_type": "markdown",
      "source": [
        "Vejamos isso em Python:"
      ],
      "metadata": {
        "id": "jIsb6UudVOwq"
      }
    },
    {
      "cell_type": "code",
      "execution_count": null,
      "metadata": {
        "id": "HjcqlSeBSsUV"
      },
      "outputs": [],
      "source": [
        "a = 5\n",
        "b = 6"
      ]
    },
    {
      "cell_type": "code",
      "execution_count": null,
      "metadata": {
        "id": "rCboOqG7SsUV",
        "colab": {
          "base_uri": "https://localhost:8080/"
        },
        "outputId": "002d18fb-deed-422f-b12a-a5047ffcbdb4"
      },
      "outputs": [
        {
          "output_type": "stream",
          "name": "stdout",
          "text": [
            "5 0b101\n",
            "6 0b110\n"
          ]
        }
      ],
      "source": [
        "bin_a=bin(a)\n",
        "bin_b=bin(b)\n",
        "print(a, bin_a)\n",
        "print(b, bin_b)"
      ]
    },
    {
      "cell_type": "markdown",
      "metadata": {
        "id": "sGJTJZbASsUV"
      },
      "source": [
        "Os dois números estão bem representados, mas..."
      ]
    },
    {
      "cell_type": "code",
      "execution_count": null,
      "metadata": {
        "id": "5TnMqyHWSsUV",
        "colab": {
          "base_uri": "https://localhost:8080/"
        },
        "outputId": "f47324ed-375c-4a37-da01-9b1bfbac29da"
      },
      "outputs": [
        {
          "output_type": "stream",
          "name": "stdout",
          "text": [
            "11 0b1011\n"
          ]
        }
      ],
      "source": [
        "print(a+b, bin(a+b))"
      ]
    },
    {
      "cell_type": "markdown",
      "metadata": {
        "id": "DFR3Xp-WSsUW"
      },
      "source": [
        "isso não é representável em 3 bits (o Python, espertinho, percebeu isso e então colocou mais um bit para representar o número 11...)."
      ]
    },
    {
      "cell_type": "markdown",
      "source": [
        "Em um computador moderno teríamos 64bits para representar um inteiro, e um sinal para carregar.\n",
        "\n",
        "Veja aqui mais detalhes: https://prof-thiagooliveira.netlify.app/post/signed-and-unsigned-binary-numbers/\n",
        "\n",
        "![sign_bit.resized.png](data:image/png;base64,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)"
      ],
      "metadata": {
        "id": "1l6iYhDoVdpy"
      }
    },
    {
      "cell_type": "markdown",
      "source": [
        "\n",
        "\n",
        "---\n",
        "\n",
        "\n",
        "\n",
        "\n",
        "#### ❗**Exercício 1**❗\n",
        "\n",
        "Qual o maior número positivo que podemos representar em inteiros com sinal se tivermos uma representação com magic_ishort bits? Justifique."
      ],
      "metadata": {
        "id": "wFLgC4zDXLXM"
      }
    },
    {
      "cell_type": "markdown",
      "source": [
        "Resposta: O maior número positivo que podemos representar em inteiros com sinal usando magic_ishort bits é 2^(magic_ishort-1) - 1. Isso ocorre porque o bit mais significativo (o mais à esquerda) é reservado para o sinal e, portanto, o valor numérico máximo é 2^(magic_ishort-1) - 1. Se tentarmos representar um número maior que esse, ele ultrapassará a capacidade da representação com sinal e resultará em um overflow.\n",
        "2^(11-1) - 1 = 1023"
      ],
      "metadata": {
        "id": "jBRzH9HvunWz"
      }
    },
    {
      "cell_type": "code",
      "source": [
        "#Resposta\n",
        "print(magic_ishort)"
      ],
      "metadata": {
        "id": "PiEt3BzbZMoI",
        "colab": {
          "base_uri": "https://localhost:8080/"
        },
        "outputId": "d804d7f1-e7aa-44a5-e2f4-7a800856a025"
      },
      "execution_count": null,
      "outputs": [
        {
          "output_type": "stream",
          "name": "stdout",
          "text": [
            "11\n"
          ]
        }
      ]
    },
    {
      "cell_type": "markdown",
      "source": [
        "\n",
        "\n",
        "---\n",
        "\n"
      ],
      "metadata": {
        "id": "lbMXtk_4Z7mq"
      }
    },
    {
      "cell_type": "markdown",
      "metadata": {
        "id": "M2X4nKSTSsUW"
      },
      "source": [
        "E no Python, quantos bits ele usa?\n",
        "\n",
        "Por \"sorte\", o Python usa _long int_ e estende a precisão no caso de inteiros se necessário, então é difícil termos problemas com inteiros em Python...Ufa!"
      ]
    },
    {
      "cell_type": "markdown",
      "metadata": {
        "id": "LUvjY-1_SsUW"
      },
      "source": [
        "\n",
        "### Números \"reais\" no computador"
      ]
    },
    {
      "cell_type": "markdown",
      "source": [
        "Agora começa o problema: como o computador representa números reais no computador?\n",
        "\n",
        "Ele usa o que é conhecido como *ponto flutuante*, que nada mais é que uma padronização da nossa notação científica:\n",
        "\n",
        "\n"
      ],
      "metadata": {
        "id": "-zi7I-RoapUL"
      }
    },
    {
      "cell_type": "markdown",
      "source": [
        "![dcd36557db1b343d74991d99aeb50aadce64eb3a.svg](data:image/svg+xml;base64,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)"
      ],
      "metadata": {
        "id": "f_8OzyyZcsPN"
      }
    },
    {
      "cell_type": "markdown",
      "source": [
        "Mas **cuidado**, pois o computador não trabalha com base 10, e sim base 2 (binária), com ponto flutuante. Para facilitar o entendimento de alguns processos, muitos textos adotam a base 10, mas sempre temos que ter em mente que no fundo será usado a base 2."
      ],
      "metadata": {
        "id": "3-y3GuWrbXeQ"
      }
    },
    {
      "cell_type": "markdown",
      "source": [
        "Em 32 bits, no padrão IEEE-754 temos:\n"
      ],
      "metadata": {
        "id": "UVkHlPu4cqbd"
      }
    },
    {
      "cell_type": "markdown",
      "source": [
        "![JT-image1-1024x130.png](data:image/png;base64,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)"
      ],
      "metadata": {
        "id": "fNpnkRStcE6C"
      }
    },
    {
      "cell_type": "markdown",
      "source": [
        "Isto é:\n",
        "\n",
        "\n",
        "*   1 bit para o sinal (+/-)\n",
        "*   8 bits para o expoente. Como precisamos de um sinal para o expoente, por convenção o expoente é subtraído por 127, que é 01111111 em binário (em precisão simples, float).\n",
        "*   23 bits para a fração (mantissa)\n",
        "\n"
      ],
      "metadata": {
        "id": "anqE6UODcHpT"
      }
    },
    {
      "cell_type": "markdown",
      "source": [
        "*Desafio:* a parte da \"fração\", que gostaríamos que representasse casas \"decimais\", precisa ser montada com base binária! Ou seja, muitos números não serão passíveis de serem representados, ou são representados com algum erro.\n",
        "\n",
        "Vejam alguns exemplos :\n",
        "\n"
      ],
      "metadata": {
        "id": "dOsSXdGCb2Cn"
      }
    },
    {
      "cell_type": "markdown",
      "source": [
        "\n",
        "\n",
        "---\n",
        "\n",
        "\n",
        "**Número \"1\"** em ponto flutuante é dado, em 32 bits, por:\n",
        "\n",
        "$\\color{blue}{0}\\color{green}{01111111}\\color{red}{00000000000000000000000}$\n",
        "\n",
        "onde as cores indicam o $\\color{blue}{sinal}$, o $\\color{green}{expoente}$,  e a $\\color{red}{mantissa}$, respectivamente.\n",
        "\n",
        "Traduzindo (em binário ainda...):\n",
        "\n",
        "$ (−1)^\\color{blue}{0}×​2^{(\\color{green}{01111111} − 01111111)​}\\times ​1.\\color{red}{00000000000000000000000} $\n",
        "\n",
        "Traduzindo para decimal:\n",
        "$(−1)^\\color{blue}{0}×​2^{\\color{green}{0}}×\\color{red}{​1.0} = 1.0 $ (exato!).\n",
        "\n",
        "\n",
        "\n",
        "---\n",
        "\n",
        "\n",
        "\n",
        "**Número \"0.5\"** é só um pouco diferente do 1 em ponto flutuante é dado, em 32 bits:\n",
        "\n",
        "No computador:\n",
        "$\\color{blue}{0}\\color{green}{01111110}\\color{red}{00000000000000000000000}$\n",
        "\n",
        "Binário:\n",
        "$ (−1)^\\color{blue}{0}×​2^{(\\color{green}{01111110} − 01111111)​}\\times ​1.\\color{red}{00000000000000000000000} $\n",
        "\n",
        "Decimal:\n",
        "$(−1)^\\color{blue}{0}×​2^{\\color{green}{-1}}×\\color{red}{​1.0} = 0.5$ (exato!).\n",
        "\n",
        "\n",
        "\n",
        "---\n",
        "\n",
        "\n",
        "**Número \"0.05\"** complica, e muito, vejamos:\n",
        "\n",
        "No computador: $\\color{blue}{0}\\color{green}{01111010}\\color{red}{10011001100110011001101}$\n",
        "\n",
        "Binário: $ (−1)^\\color{blue}{0}×​2^{(\\color{green}{01111010} − 01111111)​}\\times ​1.\\color{red}{10011001100110011001101} $\n",
        "\n",
        "Decimal:\n",
        "$(−1)^\\color{blue}{0}×​2^{\\color{green}{-5}}×1.\\color{red}{60000002384185791015625} \\approx 0.0500000007450580596923828125​$ - Não conseguimos representar exatamente :-( .\n",
        "\n",
        "\n",
        "---\n",
        "\n"
      ],
      "metadata": {
        "id": "gwQj8MddfKYy"
      }
    },
    {
      "cell_type": "markdown",
      "source": [
        "Referência: https://float.exposed/0xb3bc8b0f"
      ],
      "metadata": {
        "id": "cLH7nzGQd1PW"
      }
    },
    {
      "cell_type": "markdown",
      "source": [
        "\n",
        "\n",
        "---\n",
        "\n",
        "\n",
        "#### ❗**Exercício 2**❗\n",
        "\n",
        "\n",
        "1.   Qual o maior número representável em Python por aritmética de ponto flutuante no sistema que você está usando? (DICA: use a biblioteca sys.float_info (https://docs.python.org/3/library/sys.html) para saber mais sobre como o seu sistema trabalha com o tipo \"float\")\n",
        "\n",
        "2.   O que acontece se chamar em Python um número maior que esse? Ou se fizer uma conta que resulte em um número maior que esse? (Dê um exemplo)\n",
        "\n",
        "3. Quantos dígitos são bem representados nesse sistema de aritmética de ponto flutuante? (DICA: use o sys.float_info)\n",
        "\n",
        "4. Qual o resultado da conta 1.0e-23 + 1.0e-23? Justifique.\n",
        "\n",
        "5. Qual o resultado da conta 1.0 + 1.0e-23? Justifique.\n",
        "\n",
        "6. Qual o resultado da conta 1.0e+14 + 1.0e-14? Justifique.\n",
        "\n",
        "7. Leia o tutorial https://docs.python.org/pt-br/3/tutorial/floatingpoint.html e comente por que o computador não consegue representar o número 0.1 exatamente. Qual número aproximado é alocado na memória e usado nas contas?\n",
        "\n",
        "8.  Escreva o seu número USP como um int em binário.\n",
        "\n",
        "9.  Escreva o seu número USP como um double float em binário (explicite cada componente, incluindo sinal, mantissa e expoente, da forma: $(−1)^\\color{blue}{X}×​2^{(\\color{green}{YYYYYYYYY} − 01111111)​}\\times ​1.\\color{red}{ZZZZZZZZZZZ} $).\n",
        "\n",
        "\n"
      ],
      "metadata": {
        "id": "o1i1uhxjNA-3"
      }
    },
    {
      "cell_type": "code",
      "source": [
        "# Códigos usados na resposta ilustrando cada caso\n",
        "# 1.\n",
        "sys.float_info\n",
        "# 2.\n",
        "print(sys.float_info.max+1)\n",
        "print(2*sys.float_info.max)\n",
        "\n",
        "# 3.\n",
        "sys.float_info.mant_dig\n",
        "\n",
        "# 4.\n",
        "print(1.0e-23 + 1.0e-23)\n",
        "\n",
        "# 5.\n",
        "print(1.0 + 1.0e-23)\n",
        "\n",
        "# 6.\n",
        "print(1.0e+14 + 1.0e-14)\n",
        "\n",
        "# 7.\n",
        "format(0.1,'.60g')\n",
        "\n",
        "# 8.\n",
        "bin(11764386)\n",
        "\n",
        "# 9.\n",
        "a = \"10111\"\n",
        "b = \"01111111\"\n",
        "\n",
        "# Calculating binary value using function\n",
        "sum = bin(int(a, 2) + int(b, 2))\n",
        "\n",
        "# Printing result\n",
        "print(sum[2:])"
      ],
      "metadata": {
        "id": "M_tHfPCfPlgd",
        "colab": {
          "base_uri": "https://localhost:8080/"
        },
        "outputId": "4406a99f-ffa8-42eb-acc2-bf461a84ca14"
      },
      "execution_count": null,
      "outputs": [
        {
          "output_type": "stream",
          "name": "stdout",
          "text": [
            "1.7976931348623157e+308\n",
            "inf\n",
            "2e-23\n",
            "1.0\n",
            "100000000000000.0\n",
            "10010110\n"
          ]
        }
      ]
    },
    {
      "cell_type": "markdown",
      "source": [
        "**Responder aqui com texto as justificativas e observações:**\n",
        "\n",
        "\n",
        "\n",
        "1.   O maior número que pode ser representado é 1.7976931348623157e+308\n",
        "\n",
        "2.  Quando fazemos uma operação que resulta um número maior que o limite, duas situações podem ocorrer.\n",
        "Quando acrecentamos um número pequeno, ou seja, que altera um dígito que não está entre os dígitos representados, o python atua como se tivéssemos adicionado 0. Porém, se adicionarmos um número grande o suficiente, então o python indica o overflow e passa representar o número com o código \"inf\"\".\n",
        "\n",
        "3.  Nesse sistema, a mantissa tem 53 bits. Contudo, sabemos que o primeiro bit a esquerda da vírgula é 1. Portanto, temos a informação de 54 bits.\n",
        "\n",
        "4.  O resultado da conta é o esperado 1.0e-23 + 1.0e-23 = 2e-23\n",
        "\n",
        "5. O resultado da conta é 1.0 . Isso ocorre porque antes de fazer a adição, ambos os números precisam ter o mesmo expoente.\n",
        "Como 10^23 e maior que 2^53, o algarismo não nulo de 1.0e-23 é perdido na adição.\n",
        "\n",
        "6.  O resultado é 1.0e14. Isso ocorre porque antes de somar 1.0e-14, algarimos da sua mantissa precisam ser deslocados 28 casas decimais para direita. Na representação binária, isso significa um deslocamento de mais que 82 casas. O algarismo não nulo de 1.0e-14 é perdido na conversão.\n",
        "\n",
        "7. O computador não consegue representar 0.1 exatamente porque não existe uma soma finita de potências de dois que seja igual a 1/10.\n",
        "O número alocado na memória é 0.1000000000000000055511151231257827021181583404541015625\n",
        "\n",
        "8.  \n",
        "11764386 em binário é 101100111000001010100010\n",
        "\n",
        "9.  \n",
        "X = 0\n",
        "Z = 01100111000001010100010\n",
        "Expoente decimal = 23\n",
        "Expoente binário = 10111\n",
        "Y = 10111 + 01111111 = 10010110\n",
        "\n",
        "\n"
      ],
      "metadata": {
        "id": "Qd--7znrhf9_"
      }
    },
    {
      "cell_type": "markdown",
      "source": [
        "\n",
        "\n",
        "---\n",
        "\n",
        "\n",
        "### Simulando aritmética de ponto flutuante"
      ],
      "metadata": {
        "id": "-cnEr9GiPyo8"
      }
    },
    {
      "cell_type": "markdown",
      "source": [
        "Uma forma de simular a aritmética de ponto flutuante em diferentes tipos de computadores, com mais ou menos \"bits\" para representação numérica, é considerando o número de **algarismos significativos**.\n",
        "\n",
        "Dada uma \"máquina\" com uma certa precisão, definimos o número de **algarismos significativos** como sendo o número de casas decimais, ou dígitos, que o computador consegue representar depois de transformado em notação científica.\n",
        "\n",
        "Ex: Escreva os números na notação científica com 0,AAAAA x 10^B e verifique que\n",
        "\n",
        "1000000 : possui 1 alg. sig.\n",
        "\n",
        "0.00001 : possui 1 alg. sig.\n",
        "\n",
        "1.00001 : possui 6 alg. sig.\n",
        "\n",
        "0.12345 : possui 5 alg. sig.\n",
        "\n",
        "Qualquer conta realizada deve ser ajustada (arredondada) no final para ficar nessa representação!\n"
      ],
      "metadata": {
        "id": "gfsL2vFiRPJU"
      }
    },
    {
      "cell_type": "markdown",
      "source": [
        "\n",
        "**Cuidado!**\n",
        "\n",
        "Essa representação com algarismos significativos na base 10 é uma simplificação para fins didáticos, pois lembre-se que o computador trabalha com base 2.\n",
        "\n",
        "\n",
        "\n"
      ],
      "metadata": {
        "id": "EDJXxdN0EGZQ"
      }
    },
    {
      "cell_type": "markdown",
      "source": [
        "#### ❗**Exercício 3**❗\n",
        "\n",
        "1.   Quantos algarismos significativos são necessários para representar o seu\n",
        "número USP na forma de um *float* em base 10? Justifique.\n",
        "\n",
        "2.  Divida o seu número USP por 17. Represente o número resultante com aritmética de ponto flutuante com 5 algarismos significativos na base 10, arredondando se necessário.\n",
        "\n"
      ],
      "metadata": {
        "id": "QLU4cA-CDs12"
      }
    },
    {
      "cell_type": "code",
      "source": [
        "#Código para resposta\n",
        "print(nusp/17)\n",
        "\n"
      ],
      "metadata": {
        "id": "xJd7UU0K7kW9",
        "colab": {
          "base_uri": "https://localhost:8080/"
        },
        "outputId": "8cdf3366-f9c2-42fa-c833-da29279468e7"
      },
      "execution_count": null,
      "outputs": [
        {
          "output_type": "stream",
          "name": "stdout",
          "text": [
            "692022.7058823529\n"
          ]
        }
      ]
    },
    {
      "cell_type": "markdown",
      "source": [
        "**Resposta:**\n"
      ],
      "metadata": {
        "id": "0fql1_4LD2rq"
      }
    },
    {
      "cell_type": "markdown",
      "source": [
        "1. São necessários 8 algarismos significativos. Como o número USP é um número inteiro e ele está dentro da faixa de representação do float, então existe um representação exata em float para ele.\n",
        "\n",
        "2. 69203 = 6.9203x10^4"
      ],
      "metadata": {
        "id": "Kv5ytm3ErJrV"
      }
    },
    {
      "cell_type": "markdown",
      "source": [
        "\n",
        "\n",
        "---\n",
        "\n",
        "\n",
        "\n",
        "---\n",
        "\n"
      ],
      "metadata": {
        "id": "FLjOPyxdEHRJ"
      }
    },
    {
      "cell_type": "markdown",
      "source": [
        "\n",
        "Para saber esse número de algarismos (dígitos) significativos na sua máquina, use:"
      ],
      "metadata": {
        "id": "n4KTtjw8DrQQ"
      }
    },
    {
      "cell_type": "code",
      "source": [
        "print(sys.float_info.dig)"
      ],
      "metadata": {
        "id": "Ubs_Cxj1SZv9",
        "colab": {
          "base_uri": "https://localhost:8080/"
        },
        "outputId": "371e5b8d-a2a7-4acc-b591-48b49246ea5f"
      },
      "execution_count": null,
      "outputs": [
        {
          "output_type": "stream",
          "name": "stdout",
          "text": [
            "15\n"
          ]
        }
      ]
    },
    {
      "cell_type": "markdown",
      "source": [
        "Em Python, podemos simular esses arredondamentos a cada operação usando a seguinte função:"
      ],
      "metadata": {
        "id": "lcwnBjcFS_6a"
      }
    },
    {
      "cell_type": "code",
      "source": [
        "!pip install sigfig\n",
        "from sigfig import round\n"
      ],
      "metadata": {
        "id": "YWeaborqSvZu",
        "colab": {
          "base_uri": "https://localhost:8080/"
        },
        "outputId": "c0c95cdd-a9ad-48b0-f772-c1e95da2738f"
      },
      "execution_count": null,
      "outputs": [
        {
          "output_type": "stream",
          "name": "stdout",
          "text": [
            "Looking in indexes: https://pypi.org/simple, https://us-python.pkg.dev/colab-wheels/public/simple/\n",
            "Collecting sigfig\n",
            "  Downloading sigfig-1.3.2-py3-none-any.whl (9.8 kB)\n",
            "Requirement already satisfied: SortedContainers in /usr/local/lib/python3.9/dist-packages (from sigfig) (2.4.0)\n",
            "Installing collected packages: sigfig\n",
            "Successfully installed sigfig-1.3.2\n"
          ]
        }
      ]
    },
    {
      "cell_type": "markdown",
      "source": [
        "Um computador com 16bit tem 3 algarismos significativos (10 bits de mantissa)\n",
        "\n",
        "(precisão conhecida como \"half precision float\")\n"
      ],
      "metadata": {
        "id": "WhlAWhgqWQZv"
      }
    },
    {
      "cell_type": "markdown",
      "source": [
        "Um exemplo tentando calcular $\\tan(\\pi/2-0.001)$ numericamente:"
      ],
      "metadata": {
        "id": "dq3Jx1d6CWTn"
      }
    },
    {
      "cell_type": "code",
      "source": [
        "# Computador de 16 bits (3 alg. sig.)\n",
        "dig = 3\n",
        "\n",
        "# Números em precisão dupla (64 bits)\n",
        "# Python usa IEEE-754 double precision float\n",
        "pi_double = np.pi\n",
        "tan_double = np.tan(pi_double/2.0-0.001) #deveria ser bem grande!\n",
        "print(\"Precisão dupla: \", pi_double, tan_double)\n",
        "\n",
        "# Números em precisão \"meia\" (16 bits) simulada\n",
        "# Todas as operações devem ser arredondadas!\n",
        "pi_half = round(pi_double, dig)\n",
        "tan_half = round(np.tan(round(round(pi_half/2.0,dig)-0.001,dig)), dig) #deveria ser bem grande!\n",
        "\n",
        "print(\"Precisão meia :\", pi_half, tan_half)\n"
      ],
      "metadata": {
        "id": "wwZj_jCJVHfc",
        "colab": {
          "base_uri": "https://localhost:8080/"
        },
        "outputId": "57672039-2dce-4ca4-d2a1-9e69ab0c47f3"
      },
      "execution_count": null,
      "outputs": [
        {
          "output_type": "stream",
          "name": "stdout",
          "text": [
            "Precisão dupla:  3.141592653589793 999.9996666666933\n",
            "Precisão meia : 3.14 1260.0\n"
          ]
        }
      ]
    },
    {
      "cell_type": "markdown",
      "source": [
        "\n",
        "\n",
        "---\n",
        "\n"
      ],
      "metadata": {
        "id": "3xFYQYKsOEO8"
      }
    },
    {
      "cell_type": "markdown",
      "source": [
        "## Resolvendo Sistemas Lineares - Eliminação Gaussiana"
      ],
      "metadata": {
        "id": "nHxSFxZ_tBao"
      }
    },
    {
      "cell_type": "markdown",
      "metadata": {
        "id": "SUP43Nbjtk64"
      },
      "source": [
        "### O problema\n",
        "\n",
        "$$ Ax=b $$"
      ]
    },
    {
      "cell_type": "markdown",
      "source": [
        "Para os problemas a seguir, você deve usar uma matriz especial, construída conforme o código abaixo. Há 3 parâmetros importantes na geração da matriz:\n",
        "\n",
        "* **n** : o tamanho da matriz\n",
        "* **magic_ilong** : o seu número mágico, que fará sua matriz ser única\n",
        "* **cond_pow** : Um número inteiro que quando maior, torna o sistema mais difícil de ser resolvido, por estar mais propenso a erros de arredondamento. Este número será usado na contrução do *número de condição* da matriz gerada (https://pt.wikipedia.org/wiki/N%C3%BAmero_de_condicionamento)."
      ],
      "metadata": {
        "id": "SeX1qbJtH0M9"
      }
    },
    {
      "cell_type": "code",
      "source": [
        "# Sistema linear para testes - específica para cada aluno\n",
        "# ------------------------------------------------------------\n",
        "# Entrada:\n",
        "#  n: tamanho da mtriz\n",
        "#  magic_ilong: seed de geração de números aleatórios\n",
        "#  cond_pow : potência usada na definição do número de condição (inteiro positivo)\n",
        "#\n",
        "# Saída:\n",
        "#   A: Matrix do sistema linear Ax=b\n",
        "#   b: lado diretiro do sistema Ax=b\n",
        "#   a: matriz aumentada [A|b]\n",
        "def meu_sistema_linear(n=100, magic_ilong=magic_ilong, cond_pow=8):\n",
        "\n",
        "\n",
        "  # Tamanho do sistema\n",
        "  #n = 20\n",
        "\n",
        "  np.random.seed(magic_ilong)\n",
        "\n",
        "  # Gera matriz aleatória com número de condição alto usando decomposição QR\n",
        "  cond = np.log(10**cond_pow) # Numero de condição\n",
        "  exp_vec = np.arange(-cond/4., cond * (n + 1)/(4 * (n - 1)), cond/(2.*(n-1)))[:n]\n",
        "  s = np.exp(exp_vec)\n",
        "  S = np.diag(s)\n",
        "  U, _ = la.qr((np.random.rand(n, n) - 5.) * 200)\n",
        "  V, _ = la.qr((np.random.rand(n, n) - 5.) * 200)\n",
        "  A = U.dot(S).dot(V.T)\n",
        "  A = A.dot(A.T) #Simétrica\n",
        "\n",
        "  #Vetor b - vamos gerar b tal que a solução seja sempre um vetor com 1\n",
        "  x = np.ones((n))\n",
        "  b = A@x\n",
        "\n",
        "\n",
        "  #Matrix aumentada aleatória a=[A|b]\n",
        "  a = np.c_[A,b]\n",
        "\n",
        "  np.set_printoptions(precision=3, suppress=True)\n",
        "  #print(\"A:\" , A[:10, :10]) #imprimir só o começo da matriz\n",
        "  #print()\n",
        "  #print(\"b:\", b[:10]) #imprimir só o começo do vetor b\n",
        "  #print()\n",
        "  #print(\"a:\", a) #imprimir a matriz aumentada\n",
        "\n",
        "  return A, b, a"
      ],
      "metadata": {
        "id": "t0hFHQOWH70f"
      },
      "execution_count": null,
      "outputs": []
    },
    {
      "cell_type": "markdown",
      "source": [
        "#### 🧩 *Reflexão*\n",
        "\n",
        "Você consegue explicar como essa matriz é gerada e discutir suas propriedades a partir desse código?"
      ],
      "metadata": {
        "id": "Z5O7zDBQ4iIF"
      }
    },
    {
      "cell_type": "markdown",
      "source": [
        "\n",
        "\n",
        "---\n",
        "\n",
        "\n",
        "\n",
        "---\n",
        "\n"
      ],
      "metadata": {
        "id": "kLPQVfft72pd"
      }
    },
    {
      "cell_type": "markdown",
      "source": [
        "O algoritmo clássico, conforme visto em aula:"
      ],
      "metadata": {
        "id": "9MAWG8pKro-q"
      }
    },
    {
      "cell_type": "code",
      "source": [
        "# Método Clássico de Eliminação Gaussiana\n",
        "#\n",
        "# O método recebe como entrada uma matrix aumentada a=[A|b],\n",
        "# com dimensões n linhas por n+1 colunas, tendo b na última\n",
        "#\n",
        "# O método retorna a solução do sistema linear Ax=b,\n",
        "#            ou um erro quando isso não for possível\n",
        "def elim_gauss(a_orig):\n",
        "  #Faço uma cópia, para não estragar a matriz original\n",
        "  a = np.copy(a_orig)\n",
        "\n",
        "  #Número de linhas e colunas\n",
        "  n,m = a.shape\n",
        "\n",
        "  # Vetor da solução\n",
        "  x = np.empty((n))\n",
        "\n",
        "  #Verifica se usuário forneceu uma matriz no formato certo\n",
        "  if m != n+1 :\n",
        "    print(\"Essa matriz não tem dimensões adequadas:\", n, m)\n",
        "    return x\n",
        "\n",
        "  # Escalonamento\n",
        "  for i in range(n):\n",
        "      if a[i,i] == 0.0:\n",
        "          print('Ainda não implementei pivotamento :-( ')\n",
        "          return x\n",
        "\n",
        "      for j in range(i+1, n):\n",
        "          ratio = a[j,i]/a[i,i]\n",
        "          for k in range(n+1):\n",
        "              a[j,k] = a[j,k] - ratio * a[i,k]\n",
        "\n",
        "  # Substituição\n",
        "  x[n-1] = a[n-1,n]/a[n-1,n-1]\n",
        "\n",
        "  for i in range(n-2,-1,-1):\n",
        "      x[i] = a[i,n]\n",
        "\n",
        "      for j in range(i+1,n):\n",
        "          x[i] = x[i] - a[i,j]*x[j]\n",
        "\n",
        "      x[i] = x[i]/a[i,i]\n",
        "\n",
        "  return x"
      ],
      "metadata": {
        "id": "hHNKGc9PrueV"
      },
      "execution_count": null,
      "outputs": []
    },
    {
      "cell_type": "markdown",
      "source": [
        "Vamos fazer um teste com uma matriz aleatória especial"
      ],
      "metadata": {
        "id": "UDOS2-x0uw4k"
      }
    },
    {
      "cell_type": "markdown",
      "metadata": {
        "id": "hKqvEA5_tk65"
      },
      "source": [
        "Vamos testar o nosso esquema usando uma matriz com gerada com parâmetros:\n",
        "\n",
        "* n = 300"
      ]
    },
    {
      "cell_type": "code",
      "execution_count": null,
      "metadata": {
        "id": "EAuCvby-tk65",
        "colab": {
          "base_uri": "https://localhost:8080/"
        },
        "outputId": "8c469edd-85e6-4191-c114-e897170501d7"
      },
      "outputs": [
        {
          "output_type": "stream",
          "name": "stdout",
          "text": [
            "\n",
            "Solução [1. 1. 1. 1. 1. 1. 1. 1. 1. 1.]\n",
            "\n",
            "\n",
            "Resíduo max|b-Ax|:  2.3305801732931286e-12  Tempo que levou:  19.946776866912842  segundos\n"
          ]
        }
      ],
      "source": [
        "start_time = time.time()\n",
        "A, b, a = meu_sistema_linear(300, magic_ilong)\n",
        "x = elim_gauss(a)\n",
        "tempo_orig = time.time() - start_time\n",
        "print()\n",
        "\n",
        "print(\"Solução\", x[:10]) #imprime só alguns elementos da solução\n",
        "print(\"\\n\\nResíduo max|b-Ax|: \", np.max(np.abs(b-A@x)), \" Tempo que levou: \", tempo_orig, \" segundos\")\n"
      ]
    },
    {
      "cell_type": "markdown",
      "source": [
        "**Desafios**\n",
        "\n",
        "\n",
        "*   Esse método que implementamos parece funcionar, mas está muito lento! Como podemos melhorar a sua performance?\n",
        "\n",
        "*   O resíduo parece bem grande, por que não está mais perto de 10e-16? (que seria o erro de arredondamento esperado para uma aritmética de ponto flutuante com 64 bits (double float)).\n",
        "\n",
        "Vamos discutir esses dois pontos a seguir.\n",
        "\n"
      ],
      "metadata": {
        "id": "sKi8MXrCwjbd"
      }
    },
    {
      "cell_type": "markdown",
      "metadata": {
        "id": "Q5m9kZHKtk66"
      },
      "source": [
        "###Versão vetorizada do método de eliminação Gaussiana"
      ]
    },
    {
      "cell_type": "markdown",
      "source": [
        "Python é uma linguagem \"interpretada\", então cada linha é lida e executada individualmente, sem qualquer otimização para eficiência. Isso faz com que \"loops\" (for) em Python sejam bem lentos.\n",
        "\n",
        "Podemos otimizar códigos em Python evitando loops em Python puro, por exemplo usando vetores do Numpy. A biblioteca Numpy é uma biblioteca pré-compilada e otimizada para operações de álgebra linear, portanto, quando usamos sua aritmética estamos usando recursos computacionais de forma eficiente.\n",
        "\n",
        "Mais informações no tutorial: https://drive.google.com/file/d/1yrt5UgeYgyZdAcTmqFUJkWmOBgfoe4SP/view?usp=sharing"
      ],
      "metadata": {
        "id": "VNN49ruRyPxp"
      }
    },
    {
      "cell_type": "markdown",
      "source": [
        "Vejamos 2 pequenas mudanças no código de eliminação Gaussiana:"
      ],
      "metadata": {
        "id": "y9WOiPBuzYH2"
      }
    },
    {
      "cell_type": "code",
      "source": [
        "# Método Clássico de Eliminação Gaussiana com vetorização\n",
        "#\n",
        "# O método recebe como entrada uma matrix aumentada a=[A|b],\n",
        "# com dimensões n linhas por n+1 colunas, tendo b na última\n",
        "#\n",
        "# O método retorna a solução do sistema linear Ax=b,\n",
        "#            ou um erro quando isso não for possível\n",
        "def elim_gauss_vet(a_orig):\n",
        "  #Faço uma cópia, para não estragar a matriz original\n",
        "  a = np.copy(a_orig)\n",
        "\n",
        "  #Número de linhas e colunas\n",
        "  n,m = a.shape\n",
        "\n",
        "  # Vetor da solução\n",
        "  x = np.empty((n))\n",
        "\n",
        "  #Verifica se usuário forneceu uma matriz no formato certo\n",
        "  if m != n+1 :\n",
        "    print(\"Essa matriz não tem dimensões adequadas:\", n, m)\n",
        "    return x\n",
        "\n",
        "  # Escalonamento\n",
        "  for i in range(n):\n",
        "      if a[i,i] == 0.0:\n",
        "          print('Ainda não implementei pivotamento :-( ')\n",
        "          return x\n",
        "\n",
        "      for j in range(i+1, n):\n",
        "          ratio = a[j,i]/a[i,i]\n",
        "          #Vetorizei aqui!\n",
        "          #for k in range(n+1):\n",
        "          #    a[j,k] = a[j,k] - ratio * a[i,k]\n",
        "          a[j,:] = a[j,:] - ratio * a[i,:]\n",
        "\n",
        "  # Substituição\n",
        "  x[n-1] = a[n-1,n]/a[n-1,n-1]\n",
        "\n",
        "  for i in range(n-2,-1,-1):\n",
        "      #Vetorizei aqui!\n",
        "      #x[i] = a[i,n]\n",
        "      #for j in range(i+1,n):\n",
        "      #    x[i] = x[i] - a[i,j]*x[j]\n",
        "      #x[i] = x[i]/a[i,i]\n",
        "      x[i] = (a[i,n] - np.dot(a[i,i+1:n], x[i+1:n]))/a[i,i]\n",
        "\n",
        "  return x"
      ],
      "metadata": {
        "id": "GFw4ZkRWx0Vy"
      },
      "execution_count": null,
      "outputs": []
    },
    {
      "cell_type": "markdown",
      "source": [
        "Testando com a mesma matriz de antes:"
      ],
      "metadata": {
        "id": "gmoovp8Fzthd"
      }
    },
    {
      "cell_type": "code",
      "execution_count": null,
      "metadata": {
        "id": "YwHulOQjtk66",
        "colab": {
          "base_uri": "https://localhost:8080/"
        },
        "outputId": "4b17cf36-7362-4880-fe99-561f641548ad"
      },
      "outputs": [
        {
          "output_type": "stream",
          "name": "stdout",
          "text": [
            "Solução: [1. 1. 1. 1. 1. 1. 1. 1. 1. 1.]\n",
            "Resíduo max|b-Ax|:  2.9558577807620168e-12  Tempo que levou:  0.4390754699707031  segundos\n",
            "\n",
            "Aceleração em relação ao método sem vetorização: 45.42903949574721  vezes mais rápido\n",
            "Diferença máxima na solução: 7.327471962526033e-15\n"
          ]
        }
      ],
      "source": [
        "start_time = time.time()\n",
        "x_vet = elim_gauss_vet(a)\n",
        "tempo_vet = time.time() - start_time\n",
        "print(\"Solução:\", x_vet[:10]) #imprime só alguns elementos da solução\n",
        "print(\"Resíduo max|b-Ax|: \", np.max(np.abs(b-A@x_vet)), \" Tempo que levou: \", tempo_vet, \" segundos\")\n",
        "print()\n",
        "print(\"Aceleração em relação ao método sem vetorização:\", tempo_orig/tempo_vet, \" vezes mais rápido\")\n",
        "print(\"Diferença máxima na solução:\", np.max(np.max(x-x_vet)))"
      ]
    },
    {
      "cell_type": "markdown",
      "source": [
        "Observações:\n",
        "\n",
        "\n",
        "\n",
        "*   O método ficou muito mais rápido!\n",
        "*   A solução não ficou idêntica à solução anterior, pois a ordem das contas mudou um pouco, e portanto temos pequenos erros de arredondamento se acumulando de formas diferentes.\n",
        "\n"
      ],
      "metadata": {
        "id": "TNRPik0-0jTw"
      }
    },
    {
      "cell_type": "markdown",
      "metadata": {
        "id": "oW3FxivMtk67"
      },
      "source": [
        "### Dá para vetorizar mais?"
      ]
    },
    {
      "cell_type": "markdown",
      "metadata": {
        "id": "f0m2B-bitk67"
      },
      "source": [
        "Uma forma é mudar um pouco o algoritmo. Vejamos um algoritmo de decomposição LU (que vai servir de base para Elim. Gaussiana vetorial): Algoritmo de Crout (ou Doolittle, dependendo de onde colocamos a diagonal unitária).\n",
        "\n",
        "O problema agora é resolver\n",
        "\n",
        "$$ Ax=LUx=b $$\n"
      ]
    },
    {
      "cell_type": "code",
      "source": [
        "# Método Clássico de Eliminação Gaussiana via decomposição LU\n",
        "#\n",
        "# O método recebe como entrada uma matrix A (n x n) e o vetor b (n x 1),\n",
        "#\n",
        "# O método retorna a solução do sistema linear Ax=b,\n",
        "#            ou um erro quando isso não for possível\n",
        "# Devolve tambem as matrizes L e U da decomposição A=LU\n",
        "def elim_gauss_LU(A, b):\n",
        "  #Número de linhas e colunas\n",
        "  n,m = A.shape\n",
        "\n",
        "  # Vetor da solução\n",
        "  x = np.empty((n))\n",
        "\n",
        "  #Verifica se usuário forneceu uma matriz no formato certo\n",
        "  if m != n :\n",
        "    print(\"Essa matriz não tem dimensões adequadas:\", n, m)\n",
        "    return x\n",
        "\n",
        "  #Guardo tanto L quanto U em uma única matriz!!!!\n",
        "  LU = np.eye(n) #Matriz identidade\n",
        "\n",
        "  # @ faz multiplicação de matrizes usando numpy\n",
        "  for i in range(n):\n",
        "      if LU[i,i] == 0.0:\n",
        "          print('Ainda não implementei pivotamento :-( ')\n",
        "          return x\n",
        "      #Varre linhas superiores (Upper)\n",
        "      LU[i,i:] = A[i,i:]-LU[i,:i] @ LU[:i,i:]\n",
        "      #Varre colunas inferiores (Lower)\n",
        "      LU[(i+1):,i] = ( A[(i+1):,i]- LU[(i+1):,:i] @ LU[:i,i] ) / LU[i,i]\n",
        "\n",
        "\n",
        "  # Substituição\n",
        "  # LUx=b =>  Ly=b,  Ux=y\n",
        "  y = np.zeros(n)\n",
        "  # Ly=b\n",
        "  y[0] = b[0]\n",
        "  for i in range(1,n,1):\n",
        "      #Vetorizei aqui!\n",
        "      y[i] = (b[i] - np.dot(LU[i,:i], y[:i]))\n",
        "\n",
        "  # Ux=y\n",
        "  x = np.zeros(n)\n",
        "  x[n-1] = y[n-1]/LU[n-1,n-1]\n",
        "  for i in range(n-2,-1,-1):\n",
        "      #Vetorizei aqui!\n",
        "      x[i] = (y[i] - np.dot(LU[i,i+1:], x[i+1:]))/LU[i,i]\n",
        "\n",
        "  #Forma matrizes L e U, tais que A=LU\n",
        "  U = np.triu(LU) # Pega só triangular superior\n",
        "  L = np.tril(LU) # Pega só triangular inferior\n",
        "  np.fill_diagonal(L, 1.0) # Preenche com 1 a diagonal inferior\n",
        "  return x, L, U"
      ],
      "metadata": {
        "id": "s9wFwwUi1Z3y"
      },
      "execution_count": null,
      "outputs": []
    },
    {
      "cell_type": "markdown",
      "source": [
        "Testando:"
      ],
      "metadata": {
        "id": "jyYzg8Pb3Aun"
      }
    },
    {
      "cell_type": "code",
      "execution_count": null,
      "metadata": {
        "id": "8yetX2Y2tk67",
        "colab": {
          "base_uri": "https://localhost:8080/"
        },
        "outputId": "9d218620-ebf7-4200-fd9c-cb85107647f9"
      },
      "outputs": [
        {
          "output_type": "stream",
          "name": "stdout",
          "text": [
            "Solução: [1. 1. 1. 1. 1. 1. 1. 1. 1. 1.]\n",
            "Resíduo max|b-Ax|:  2.0463630789890885e-12  Tempo que levou:  0.031223535537719727  segundos\n",
            "\n",
            "Aceleração em relação ao método sem vetorização: 638.8378677621582  vezes mais rápido\n",
            "Diferença máxima na solução: 2.0351551555108927e-09\n",
            "\n",
            "Teste LU: \n",
            "1.0231815394945443e-12\n"
          ]
        }
      ],
      "source": [
        "start_time = time.time()\n",
        "x_LU, L, U = elim_gauss_LU(A, b)\n",
        "tempo_LU = time.time() - start_time\n",
        "print(\"Solução:\", x_LU[:10]) #imprime só alguns elementos da solução\n",
        "print(\"Resíduo max|b-Ax|: \", np.max(np.abs(b-A@x_LU)), \" Tempo que levou: \", tempo_LU, \" segundos\")\n",
        "print()\n",
        "print(\"Aceleração em relação ao método sem vetorização:\", tempo_orig/tempo_LU, \" vezes mais rápido\")\n",
        "print(\"Diferença máxima na solução:\", np.max(np.max(x-x_LU)))\n",
        "print('\\nTeste LU: ')\n",
        "print(np.max(np.max(np.abs(L@U-A))))"
      ]
    },
    {
      "cell_type": "markdown",
      "source": [
        "Impressionante a diferença de performance, não? ;-)"
      ],
      "metadata": {
        "id": "JnrD_pA23XV4"
      }
    },
    {
      "cell_type": "markdown",
      "source": [
        "\n",
        "\n",
        "\n",
        "\n",
        "\n",
        "\n",
        "---\n",
        "\n"
      ],
      "metadata": {
        "id": "DSaOJVEM3eNo"
      }
    },
    {
      "cell_type": "markdown",
      "metadata": {
        "id": "6nik1Fdstk68"
      },
      "source": [
        "#### 🧩*Desafio Opcional*\n",
        "\n",
        "Você consegue usar essa ideia do LU para fazer diretamente a solução do sistema linear vetorial, com apenas um loop, sem precisar calcular L e U explicitamente como fizemos?"
      ]
    },
    {
      "cell_type": "markdown",
      "source": [
        "\n",
        "\n",
        "---\n",
        "\n"
      ],
      "metadata": {
        "id": "AooIW4UC4e8m"
      }
    },
    {
      "cell_type": "markdown",
      "metadata": {
        "id": "AkBA0Gg8tk68"
      },
      "source": [
        "## E a precisão das contas?"
      ]
    },
    {
      "cell_type": "markdown",
      "metadata": {
        "id": "jsoDBld_tk68"
      },
      "source": [
        "#### ❗**Exercício 4**❗\n",
        "\n",
        "Implemente uma versão análoga à apresentada no primeiro código de eliminação de Gauss (a função elim_gauss()), mas que agora arredonde cada operação feita para um certo número de algarismos significations.\n",
        "\n",
        "Para tanto, use round(número, sigfigs) após cada conta que realizar no algoritmo. TODAS as contas de +-*/ devem ser sempre arredondadas!\n",
        "\n",
        "Coloque sua implementação no espaço abaixo,"
      ]
    },
    {
      "cell_type": "code",
      "execution_count": null,
      "metadata": {
        "id": "P_kGFo2stk69"
      },
      "outputs": [],
      "source": [
        "# Método Clássico de Eliminação Gaussiana com aritmética de ponto flutuante restrita\n",
        "#\n",
        "# O método recebe como entrada uma matrix aumentada a=[A,b] referente ao\n",
        "#    sistema linear Ax=b, com A (n x n) e o vetor b (n x 1),\n",
        "# O método recebe também o número de algarismos significativos a serem usados nas contas\n",
        "#\n",
        "# O método retorna a solução do sistema linear Ax=b,\n",
        "#            ou um erro quando isso não for possível\n",
        "def elim_gauss_precisao_reduzida(a_orig, sigfig=3):\n",
        "\n",
        "  #Faço uma cópia, para não estragar a matriz original\n",
        "  a = np.copy(a_orig)\n",
        "\n",
        "    #Número de linhas e colunas\n",
        "  n,m = a.shape\n",
        "\n",
        "  # Vetor da solução\n",
        "  x = np.empty((n))\n",
        "\n",
        "  #Verifica se usuário forneceu uma matriz no formato certo\n",
        "  if m != n+1 :\n",
        "    print(\"Essa matriz não tem dimensões adequadas:\", n, m)\n",
        "    return x\n",
        "\n",
        "  # Escalonamento\n",
        "  for i in range(n):\n",
        "      if a[i,i] == 0.0:\n",
        "          print('Ainda não implementei pivotamento :-( ')\n",
        "          return x\n",
        "\n",
        "      for j in range(i+1, n):\n",
        "          ratio = round(a[j,i]/a[i,i], sigfig)\n",
        "\n",
        "          for k in range(n+1):\n",
        "              a[j,k] = round(a[j,k] - round(ratio * a[i,k], sigfig), sigfig)\n",
        "\n",
        "  # Substituição\n",
        "  x[n-1] = round(a[n-1,n]/a[n-1,n-1], sigfig)\n",
        "\n",
        "  for i in range(n-2,-1,-1):\n",
        "      x[i] = a[i,n]\n",
        "\n",
        "      for j in range(i+1,n):\n",
        "          x[i] = round(x[i] - round(a[i,j]*x[j], sigfig), sigfig)\n",
        "\n",
        "      x[i] = round(x[i]/a[i,i], sigfig)\n",
        "\n",
        "  return x\n",
        ""
      ]
    },
    {
      "cell_type": "markdown",
      "source": [
        "\n",
        "\n",
        "---\n",
        "\n"
      ],
      "metadata": {
        "id": "YbAEolRO9d45"
      }
    },
    {
      "cell_type": "markdown",
      "source": [
        "\n",
        "Teste o seu código considerando a sua matriz aleatória anterior variando o número de algarismos significativos de 4 até 16.\n",
        "\n",
        "*    Use como tamanho da matriz pelo menos $n\\geq 20$\n",
        "*    Monte uma tabela, ou gráfico, com o erro máximo da solução obtida em relação a solução obtida com precisão máxima do Python (o \"x\" obtido com algoritmo original, sem arredondamentos).\n",
        "*   Qual a razão de caimento do erro quando aumentamos 1 algarismo significativo (aproximadamente)?\n",
        "\n",
        "\n"
      ],
      "metadata": {
        "id": "93uyXUyh53rv"
      }
    },
    {
      "cell_type": "code",
      "source": [
        "# Coloque seu código aqui\n",
        "A, b, a = meu_sistema_linear(30, magic_ilong)\n",
        "x = elim_gauss(a)\n",
        "\n",
        "max_error = np.empty((13,2))\n",
        "for i in range(4,17):\n",
        "  solucao = elim_gauss_precisao_reduzida(a, i)\n",
        "  max_error[i-4][1] = np.max(np.abs(solucao-x))\n",
        "  max_error[i-4][0] = i\n",
        "  print(\"Erro max|solucao-x|: \", np.max(np.abs(solucao-x)))\n"
      ],
      "metadata": {
        "id": "8FTaZ-zz8I09",
        "colab": {
          "base_uri": "https://localhost:8080/"
        },
        "outputId": "bd7dd99d-b800-4577-db08-215a3054b313"
      },
      "execution_count": null,
      "outputs": [
        {
          "output_type": "stream",
          "name": "stdout",
          "text": [
            "Erro max|solucao-x|:  1.113299999115642\n",
            "Erro max|solucao-x|:  1.1539999992807024\n",
            "Erro max|solucao-x|:  2.111609999410969\n",
            "Erro max|solucao-x|:  5.824758998816019\n",
            "Erro max|solucao-x|:  0.11021420114911218\n",
            "Erro max|solucao-x|:  0.007311618204517534\n",
            "Erro max|solucao-x|:  0.0022938780879585563\n",
            "Erro max|solucao-x|:  0.00014503218795858253\n",
            "Erro max|solucao-x|:  1.3442185482381852e-05\n",
            "Erro max|solucao-x|:  1.6245975190676276e-06\n",
            "Erro max|solucao-x|:  4.892119398469674e-08\n",
            "Erro max|solucao-x|:  3.3024166068429395e-08\n",
            "Erro max|solucao-x|:  3.5703731082747936e-09\n"
          ]
        }
      ]
    },
    {
      "cell_type": "code",
      "source": [
        "#Gráficos\n",
        "import matplotlib.pyplot as plt\n",
        "\n",
        "# Create a scatter plot\n",
        "plt.scatter(max_error[:, 0], max_error[:, 1])\n",
        "\n",
        "# Add axis labels and a title\n",
        "plt.xlabel('Algarismos significativos')\n",
        "plt.ylabel('Diferença máxima')\n",
        "plt.title('Scatter plot')\n",
        "\n",
        "# Show the plot\n",
        "plt.show()"
      ],
      "metadata": {
        "id": "mv8HWO8s_vto",
        "colab": {
          "base_uri": "https://localhost:8080/",
          "height": 472
        },
        "outputId": "fb960eeb-fbfa-4cb7-d3ff-99df78eaa928"
      },
      "execution_count": null,
      "outputs": [
        {
          "output_type": "display_data",
          "data": {
            "text/plain": [
              "<Figure size 640x480 with 1 Axes>"
            ],
            "image/png": "[encoded data removed]"
          },
          "metadata": {}
        }
      ]
    },
    {
      "cell_type": "markdown",
      "source": [
        "Discuta aqui o que observou dos resultados:"
      ],
      "metadata": {
        "id": "Q0pj2QPA8Ntq"
      }
    },
    {
      "cell_type": "markdown",
      "source": [
        "\n",
        "\n",
        "Nas primeiras iterações, observamos um comportamento de aumento e diminuição do valor da diferença máxima antre as soluçoes. Porém, a partir da quarta iteração, observamos um decaimento da diferença entre as duas soluções quando aumentamos o número de algarismos significativos."
      ],
      "metadata": {
        "id": "0RSoI5Q64IL5"
      }
    },
    {
      "cell_type": "markdown",
      "source": [
        "\n",
        "\n",
        "---\n",
        "\n"
      ],
      "metadata": {
        "id": "oyhvu-S78S9U"
      }
    },
    {
      "cell_type": "markdown",
      "metadata": {
        "id": "i4jFLl1Xtk6-"
      },
      "source": [
        "## Pivotamento Parcial: Melhorando a precisão permutando linhas"
      ]
    },
    {
      "cell_type": "markdown",
      "metadata": {
        "id": "kyTFd5t5tk6-"
      },
      "source": [
        "A *condensação pivotal parcial* consiste em escolher como pivô, a cada passo do escalonamento, o elemento na coluna-pivô (da diagonal principal para baixo) com maior valor absoluto, de modo que todos os multiplicadores tenham módulo menor ou igual a 1.\n",
        "\n",
        "O algoritmo consiste na seguinte estratégia:\n",
        "1. Na eliminação de Gauss o pivô é termo da diagonal que será usado como divisor para chegarmos no multiplicador. Queremos que o pivô usado para construção do multiplicador seja o maior possível, para que o multiplicador seja menor que 1.\n",
        "2. A cada nova coluna que vou escalonar (digamos que seja a coluna j, com o pivô sendo $a_{jj}$), verifico o valor em módulo dos elementos abaixo do pivô (elementos $a_{kj}$, $k\\geq j$). Escolho a linha ($k$) que tem o elemento com maior valor em módulo, e troco com a linha principal ($j$), isto é, troco a linha j com a k.  \n",
        "3. Prossigo com a estratégia usual de escalonamento com a matriz com as linhas trocadas. Note que solução do sistema não é alterada pela troca de linhas. Além disso, note ainda que não \"estragamos\" o escalonamento anterior, pois sempre trocamos com linhas abaixo do pivô.\n",
        "\n",
        "Para mais detalhes, veja a video-aula https://drive.google.com/file/d/1h2UJUaQvEYR7mO00fiJoihJmeTwv42BU/view?usp=sharing.\n",
        "\n",
        "\n",
        "\n",
        "---\n",
        "\n",
        "\n",
        "\n",
        "#### ❗**Exercício 5**❗\n",
        "\n",
        "Implemente uma modificação do seu algoritmo de eliminação de Gauss com precisão reduzida agora considerando um pivotamento parcial, trocando as linhas nas etapas do escalonamento de forma a sempre obter um multiplicador em módulo menor que 1.\n",
        "\n",
        "Aproveite e inclua no seu código uma condição para dizer se o sistema tem determinante nulo ou não.\n",
        "\n",
        "Repita o teste feito anteriormente e comente sobre o que observou a respeito do erro obtido."
      ]
    },
    {
      "cell_type": "code",
      "execution_count": null,
      "metadata": {
        "id": "GKf22on5tk6_"
      },
      "outputs": [],
      "source": [
        "\n",
        "# Método Clássico de Eliminação Gaussiana com aritmética de ponto flutuante restrita\n",
        "#    e condensação pivotal parcial\n",
        "#\n",
        "# O método recebe como entrada uma matrix aumentada a=[A,b] referente ao\n",
        "#    sistema linear Ax=b, com A (n x n) e o vetor b (n x 1),\n",
        "# O método recebe também o número de algarismos significativos a serem usados nas contas\n",
        "#\n",
        "# O método retorna a solução do sistema linear Ax=b,\n",
        "#            ou um erro quando isso não for possível\n",
        "def elim_gauss_pivot_precisao_reduzida(a_orig, sigfig=3):\n",
        "\n",
        "  ## COLOQUE AQUI O SEU CÓDIGO\n",
        "\n",
        "  #Faço uma cópia, para não estragar a matriz original\n",
        "  a = np.copy(a_orig)\n",
        "\n",
        "    #Número de linhas e colunas\n",
        "  n,m = a.shape\n",
        "\n",
        "  #Teste do determinante\n",
        "  if (np.linalg.det(a[0:n, 0:n]) <= 10e-20):\n",
        "    print(\"A matriz tem determinante aproxidamente nulo\")\n",
        "\n",
        "  # Vetor da solução\n",
        "  x = np.empty((n))\n",
        "\n",
        "  #Verifica se usuário forneceu uma matriz no formato certo\n",
        "  if m != n+1 :\n",
        "    print(\"Essa matriz não tem dimensões adequadas:\", n, m)\n",
        "    return x\n",
        "\n",
        "\n",
        "  # Escalonamento\n",
        "  for i in range(n):\n",
        "\n",
        "      #Aplica o pivotamento parcial\n",
        "      rel_index_new_pivot = np.argmax(np.absolute(a[i:, i]))\n",
        "\n",
        "      if (rel_index_new_pivot != 0):\n",
        "        temp = np.copy(a[rel_index_new_pivot+i,:])\n",
        "        a[rel_index_new_pivot+i] = a[i]\n",
        "        a[i] = temp\n",
        "\n",
        "      #Eliminação nas linhas abaixo da diagonal principal na coluna i\n",
        "      for j in range(i+1, n):\n",
        "          ratio = round(a[j,i]/a[i,i], sigfig)\n",
        "\n",
        "          for k in range(n+1):\n",
        "              a[j,k] = round(a[j,k] - round(ratio * a[i,k], sigfig), sigfig)\n",
        "\n",
        "  # Substituição\n",
        "  x[n-1] = round(a[n-1,n]/a[n-1,n-1], sigfig)\n",
        "\n",
        "  for i in range(n-2,-1,-1):\n",
        "      x[i] = a[i,n]\n",
        "\n",
        "      for j in range(i+1,n):\n",
        "          x[i] = round(x[i] - round(a[i,j]*x[j], sigfig), sigfig)\n",
        "\n",
        "      x[i] = round(x[i]/a[i,i], sigfig)\n",
        "\n",
        "  return x\n",
        "\n",
        "\n",
        "\n"
      ]
    },
    {
      "cell_type": "code",
      "execution_count": null,
      "metadata": {
        "id": "3sJbR814tk6_",
        "colab": {
          "base_uri": "https://localhost:8080/"
        },
        "outputId": "1a3c2a8e-fa68-45b5-a5be-b8b430d3217d"
      },
      "outputs": [
        {
          "output_type": "stream",
          "name": "stdout",
          "text": [
            "Erro max|solucao-x|:  1.5289999991657839\n",
            "Erro max|solucao-x|:  1.4951999991154468\n",
            "Erro max|solucao-x|:  1.3194709992807023\n",
            "Erro max|solucao-x|:  0.639899499410969\n"
          ]
        },
        {
          "output_type": "stream",
          "name": "stderr",
          "text": [
            "/usr/local/lib/python3.9/dist-packages/sigfig/sigfig.py:586: UserWarning: warning: 8 significant figures requested from number with only 4 significant figures\n",
            "  warn(\"warning: %d significant figures requested from number with only %d significant figures\" % (given['sigfigs'], len(num.map)))\n"
          ]
        },
        {
          "output_type": "stream",
          "name": "stdout",
          "text": [
            "Erro max|solucao-x|:  0.18285354920451757\n",
            "Erro max|solucao-x|:  0.011023878816019073\n",
            "Erro max|solucao-x|:  0.002393271122606122\n",
            "Erro max|solucao-x|:  0.00015882391695198894\n"
          ]
        },
        {
          "output_type": "stream",
          "name": "stderr",
          "text": [
            "/usr/local/lib/python3.9/dist-packages/sigfig/sigfig.py:586: UserWarning: warning: 12 significant figures requested from number with only 8 significant figures\n",
            "  warn(\"warning: %d significant figures requested from number with only %d significant figures\" % (given['sigfigs'], len(num.map)))\n"
          ]
        },
        {
          "output_type": "stream",
          "name": "stdout",
          "text": [
            "Erro max|solucao-x|:  6.691523980917324e-06\n"
          ]
        },
        {
          "output_type": "stream",
          "name": "stderr",
          "text": [
            "/usr/local/lib/python3.9/dist-packages/sigfig/sigfig.py:586: UserWarning: warning: 13 significant figures requested from number with only 9 significant figures\n",
            "  warn(\"warning: %d significant figures requested from number with only %d significant figures\" % (given['sigfigs'], len(num.map)))\n"
          ]
        },
        {
          "output_type": "stream",
          "name": "stdout",
          "text": [
            "Erro max|solucao-x|:  2.0412973855687966e-06\n",
            "Erro max|solucao-x|:  2.4494939754315936e-07\n",
            "Erro max|solucao-x|:  2.869252113679721e-08\n",
            "Erro max|solucao-x|:  2.0785912990817224e-09\n"
          ]
        }
      ],
      "source": [
        "#Coloque aqui o seu código de teste do método implementado\n",
        "A, b, a = meu_sistema_linear(30, magic_ilong)\n",
        "x = elim_gauss(a)\n",
        "\n",
        "max_error = np.empty((13,2))\n",
        "for i in range(4,17):\n",
        "  solucao = elim_gauss_pivot_precisao_reduzida(a, i)\n",
        "  max_error[i-4][1] = np.max(np.abs(solucao-x))\n",
        "  max_error[i-4][0] = i\n",
        "  print(\"Erro max|solucao-x|: \", np.max(np.abs(solucao-x)))\n"
      ]
    },
    {
      "cell_type": "code",
      "source": [
        "# Create a scatter plot\n",
        "plt.scatter(max_error[:, 0], max_error[:, 1])\n",
        "\n",
        "# Add axis labels and a title\n",
        "plt.xlabel('Algarismos significativos')\n",
        "plt.ylabel('Diferença máxima entre soluções')\n",
        "plt.title('Scatter plot')\n",
        "\n",
        "# Show the plot\n",
        "plt.show()"
      ],
      "metadata": {
        "colab": {
          "base_uri": "https://localhost:8080/",
          "height": 472
        },
        "id": "JAhySn7_rbOA",
        "outputId": "be8d4d16-037f-48f8-869e-b39cfb8fd153"
      },
      "execution_count": null,
      "outputs": [
        {
          "output_type": "display_data",
          "data": {
            "text/plain": [
              "<Figure size 640x480 with 1 Axes>"
            ],
            "image/png": "[encoded data removed]"
          },
          "metadata": {}
        }
      ]
    },
    {
      "cell_type": "markdown",
      "source": [
        "Coloque aqui observações sobre o experimento realizado:\n",
        "\n",
        "* A precisão da solução melhorou com o pivotamento?\n",
        "* Será que para qualquer matriz o erro vai sempre melhorar?\n",
        "* 🧩 Consegue ilustrar algum teste que o pivotamento não ajuda?\n"
      ],
      "metadata": {
        "id": "fnac7OCbClgo"
      }
    },
    {
      "cell_type": "markdown",
      "source": [
        "1. O pivotamento parcial melhorou a precisão especialmente nas iterações com 6 e 7 algarismos significativos.\n",
        "2. O pivotamento parcial pode não fazer diferença em matrizes em que há um aumento muito grande dos valores da esquerda para direita e decréscimo nos valores de baixo pra cima. Por exemplo,\n",
        "\n",
        "1 10 100\n",
        "\n",
        "2 100 1000\n",
        "\n",
        "3 1000 10000\n",
        "\n"
      ],
      "metadata": {
        "id": "xDYOhRsivW3v"
      }
    },
    {
      "cell_type": "markdown",
      "source": [
        "\n",
        "\n",
        "---\n",
        "\n"
      ],
      "metadata": {
        "id": "jWeFZfgwQnLK"
      }
    },
    {
      "cell_type": "markdown",
      "source": [
        "# ❗ Tarefa Final ❗\n"
      ],
      "metadata": {
        "id": "v96Y6CqgQoPk"
      }
    },
    {
      "cell_type": "markdown",
      "source": [
        "Queremos encontrar um polinômio de grau $n>0$,\n",
        "\n",
        "$$ p_n(x) = a_0 + a_1 x + a_2 x^2 + ... + a_n x^n $$\n",
        "\n",
        "de modo que\n",
        "\n",
        "$$ p_n(x_k) = y_k, \\quad (0 \\leq k \\leq n), $$\n",
        "\n",
        "em que os pares $(x_k, y_k)$ são dados e $x_k$ são distintos para diferentes $k$.\n",
        "\n",
        "Para isso, escrevemos o sistema linear com $n+1$ equações, uma para cada par $(x_k, y_k)$\n",
        "\n",
        "$$ p_n(x_k) = a_0 + a_1 x_k + a_2 x_k^2 + ... + a_n x_k^n = y_k, $$\n",
        "\n",
        "que tem como incógnitas os $n+1$ coeficientes $a_j$, $j=0,1,...,n$.\n",
        "\n",
        "A matriz do sistema resultante é conhecida como Matriz de Vandermonde (https://pt.wikipedia.org/wiki/Matriz_de_Vandermonde) e o problema em questão é um problema de interpolação (que veremos mais adiante no curso).\n"
      ],
      "metadata": {
        "id": "VI_ocALZQsQ7"
      }
    },
    {
      "cell_type": "markdown",
      "source": [
        "**Implementação**\n",
        "\n",
        "Use o código que implementou de eliminação de Gauss com condensação pivotal com um certo número de digitos significativos fixados."
      ],
      "metadata": {
        "id": "5bdgjyf3R035"
      }
    },
    {
      "cell_type": "markdown",
      "source": [
        "**Teste 1**\n",
        "\n",
        "Teste o seu método resolvendo o sistema linear do problema descrito na tarefa considerando:\n",
        "\n",
        "$$n = 5$$\n",
        "\n",
        "$$x_k=k+1, \\quad k=0,1,...,n$$\n",
        "\n",
        "$$ y_k = x_k^6 - \\text{magic_ishort} * x_k^5 $$\n",
        "\n",
        "considerando 4, 8, 12 e 16 algarismos significativos.\n",
        "\n",
        "Apresente em cada caso o valor do erro:\n",
        "\n",
        "$$E = \\max_{k=0,1,..,n}| p(x_k)-y_k | $$"
      ],
      "metadata": {
        "id": "-omYQgqYSOgH"
      }
    },
    {
      "cell_type": "code",
      "source": [
        "#Coloque seus códigos aqui\n",
        "## Contruindo a matriz\n",
        "n_coeficientes = 7\n",
        "n_pontos_fornecidos = 6\n",
        "\n",
        "xk = np.array([0,1,2,3,4,5])\n",
        "xk = xk + 1\n",
        "A = np.vander(xk, increasing = True)\n",
        "\n",
        "y = np.expand_dims((xk**5)*(xk - magic_ishort), axis = 1)\n",
        "\n",
        "\n",
        "a = np.empty((n_pontos_fornecidos, A.shape[1]+1))\n",
        "a[:,0:-1] = A\n",
        "a[:,-1:] = y\n",
        "\n",
        "## Aplicando o escalonamento\n",
        "max_error = np.empty((4,2))\n",
        "for i in range(1,5):\n",
        "  solucao = elim_gauss_pivot_precisao_reduzida(a, 4*i)\n",
        "  max_error[i-1][1] = np.max(np.abs((A@solucao)-np.transpose(y[:,0])))\n",
        "  max_error[i-1][0] = i*4\n",
        "  print(\"Erro max|solucao-x|: \" + \"{:.20f}\".format(max_error[i-1][1]))\n"
      ],
      "metadata": {
        "id": "2oDa_jh5-e4N",
        "colab": {
          "base_uri": "https://localhost:8080/"
        },
        "outputId": "b2091b22-ea09-4577-db15-82f6223b6b9e"
      },
      "execution_count": null,
      "outputs": [
        {
          "output_type": "stream",
          "name": "stdout",
          "text": [
            "Erro max|solucao-x|: 17.19999999999708961695\n",
            "Erro max|solucao-x|: 0.00000000000000000000\n",
            "Erro max|solucao-x|: 0.00000000000000000000\n",
            "Erro max|solucao-x|: 0.00000000000000000000\n"
          ]
        }
      ]
    },
    {
      "cell_type": "code",
      "source": [
        "# Create a scatter plot\n",
        "plt.scatter(max_error[:, 0], max_error[:, 1])\n",
        "\n",
        "# Add axis labels and a title\n",
        "plt.xlabel('Algarismos significativos')\n",
        "plt.ylabel('Diferença máxima entre soluções')\n",
        "plt.title('Scatter plot')\n",
        "\n",
        "# Show the plot\n",
        "plt.show()"
      ],
      "metadata": {
        "colab": {
          "base_uri": "https://localhost:8080/",
          "height": 472
        },
        "id": "hYbbGmMzkW4O",
        "outputId": "d8926efc-682a-4053-adc2-2d489df28756"
      },
      "execution_count": null,
      "outputs": [
        {
          "output_type": "display_data",
          "data": {
            "text/plain": [
              "<Figure size 640x480 with 1 Axes>"
            ],
            "image/png": "[encoded data removed]"
          },
          "metadata": {}
        }
      ]
    },
    {
      "cell_type": "code",
      "source": [
        "#Visualizando a solução\n",
        "solucao = elim_gauss_pivot_precisao_reduzida(a,16)\n",
        "print(solucao)"
      ],
      "metadata": {
        "colab": {
          "base_uri": "https://localhost:8080/"
        },
        "id": "VUWMyOX-hnDe",
        "outputId": "485812c6-b176-419b-e574-366546808ea4"
      },
      "execution_count": null,
      "outputs": [
        {
          "output_type": "stream",
          "name": "stdout",
          "text": [
            "[ -720.  1764. -1624.   735.  -175.    10.]\n"
          ]
        }
      ]
    },
    {
      "cell_type": "markdown",
      "source": [
        "Coloque sua resposta e comentários"
      ],
      "metadata": {
        "id": "2mDtf7wk-i2Y"
      }
    },
    {
      "cell_type": "markdown",
      "source": [
        "Como esperado, o erro máximo diminuiu quando aumentamos o número de algarismos significativos. Os erros podem ser observados no output da célula que contém o processo de escalonamento, considerando cada uma das precisões.\n",
        "Observamos que usando 8 algarismos significativos, erro ficou suficientemente próximo de zero para que o computador arredondasse pra zero."
      ],
      "metadata": {
        "id": "6bl8SHSlTbOk"
      }
    }
  ],
  "metadata": {
    "interpreter": {
      "hash": "8b4e9e530fc5c670eb607b6670c5e86d974972dc67aa68117cbb7d353cc80e46"
    },
    "kernelspec": {
      "display_name": "Python 3.8.8 64-bit ('devito': conda)",
      "language": "python",
      "name": "python3"
    },
    "language_info": {
      "codemirror_mode": {
        "name": "ipython",
        "version": 3
      },
      "file_extension": ".py",
      "mimetype": "text/x-python",
      "name": "python",
      "nbconvert_exporter": "python",
      "pygments_lexer": "ipython3",
      "version": "3.8.5"
    },
    "colab": {
      "provenance": [],
      "toc_visible": true
    }
  },
  "nbformat": 4,
  "nbformat_minor": 0
}